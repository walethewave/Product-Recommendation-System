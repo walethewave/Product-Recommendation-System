{
 "cells": [
  {
   "cell_type": "code",
   "execution_count": 1,
   "metadata": {},
   "outputs": [
    {
     "name": "stdout",
     "output_type": "stream",
     "text": [
      "   Transaction_ID  Customer_ID                 Name              Email  \\\n",
      "0       8691788.0      37249.0  Michelle Harrington  Ebony39@gmail.com   \n",
      "1       2174773.0      69749.0          Kelsey Hill   Mark36@gmail.com   \n",
      "2       6679610.0      30192.0         Scott Jensen  Shane85@gmail.com   \n",
      "3       7232460.0      62101.0        Joseph Miller   Mary34@gmail.com   \n",
      "\n",
      "          Phone                      Address        City            State  \\\n",
      "0  1.414787e+09            3959 Amanda Burgs    Dortmund           Berlin   \n",
      "1  6.852900e+09           82072 Dawn Centers  Nottingham          England   \n",
      "2  8.362160e+09            4133 Young Canyon     Geelong  New South Wales   \n",
      "3  2.776752e+09  8148 Thomas Creek Suite 100    Edmonton          Ontario   \n",
      "\n",
      "   Zipcode    Country  ...  Total_Amount Product_Category  Product_Brand  \\\n",
      "0  77985.0    Germany  ...    324.086270         Clothing           Nike   \n",
      "1  99071.0         UK  ...    806.707815      Electronics        Samsung   \n",
      "2  75929.0  Australia  ...   1063.432799            Books  Penguin Books   \n",
      "3  88420.0     Canada  ...   2466.854021       Home Decor     Home Depot   \n",
      "\n",
      "  Product_Type   Feedback  Shipping_Method Payment_Method Order_Status  \\\n",
      "0       Shorts  Excellent         Same-Day     Debit Card      Shipped   \n",
      "1       Tablet  Excellent         Standard    Credit Card   Processing   \n",
      "2   Children's    Average         Same-Day    Credit Card   Processing   \n",
      "3        Tools  Excellent         Standard         PayPal   Processing   \n",
      "\n",
      "   Ratings          products  \n",
      "0      5.0    Cycling shorts  \n",
      "1      4.0        Lenovo Tab  \n",
      "2      2.0  Sports equipment  \n",
      "3      4.0     Utility knife  \n",
      "\n",
      "[4 rows x 30 columns]\n"
     ]
    }
   ],
   "source": [
    "import pandas as pd\n",
    "\n",
    "# Load dataset\n",
    "df = pd.read_csv('new_retail_data.csv')\n",
    "\n",
    "# Display first few rows\n",
    "print(df.head(4))\n"
   ]
  },
  {
   "cell_type": "code",
   "execution_count": 2,
   "metadata": {},
   "outputs": [
    {
     "name": "stdout",
     "output_type": "stream",
     "text": [
      "0\n"
     ]
    }
   ],
   "source": [
    "# Remove duplicate rows\n",
    "df = df.drop_duplicates()\n",
    "\n",
    "# Check for any remaining duplicates\n",
    "print(df.duplicated().sum())\n"
   ]
  },
  {
   "cell_type": "code",
   "execution_count": 3,
   "metadata": {},
   "outputs": [
    {
     "name": "stdout",
     "output_type": "stream",
     "text": [
      "Transaction_ID      333\n",
      "Customer_ID         308\n",
      "Name                382\n",
      "Email               347\n",
      "Phone               362\n",
      "Address             315\n",
      "City                248\n",
      "State               281\n",
      "Zipcode             340\n",
      "Country             271\n",
      "Age                 173\n",
      "Gender              317\n",
      "Income              290\n",
      "Customer_Segment    215\n",
      "Date                359\n",
      "Year                350\n",
      "Month               273\n",
      "Time                350\n",
      "Total_Purchases     361\n",
      "Amount              356\n",
      "Total_Amount        350\n",
      "Product_Category    283\n",
      "Product_Brand       281\n",
      "Product_Type          0\n",
      "Feedback            184\n",
      "Shipping_Method     337\n",
      "Payment_Method      297\n",
      "Order_Status        235\n",
      "Ratings             184\n",
      "products              0\n",
      "dtype: int64\n"
     ]
    },
    {
     "name": "stderr",
     "output_type": "stream",
     "text": [
      "C:\\Users\\USER\\AppData\\Local\\Temp\\ipykernel_3976\\1342023540.py:5: FutureWarning: A value is trying to be set on a copy of a DataFrame or Series through chained assignment using an inplace method.\n",
      "The behavior will change in pandas 3.0. This inplace method will never work because the intermediate object on which we are setting values always behaves as a copy.\n",
      "\n",
      "For example, when doing 'df[col].method(value, inplace=True)', try using 'df.method({col: value}, inplace=True)' or df[col] = df[col].method(value) instead, to perform the operation inplace on the original object.\n",
      "\n",
      "\n",
      "  df['Age'].fillna(df['Age'].median(), inplace=True)\n",
      "C:\\Users\\USER\\AppData\\Local\\Temp\\ipykernel_3976\\1342023540.py:6: FutureWarning: A value is trying to be set on a copy of a DataFrame or Series through chained assignment using an inplace method.\n",
      "The behavior will change in pandas 3.0. This inplace method will never work because the intermediate object on which we are setting values always behaves as a copy.\n",
      "\n",
      "For example, when doing 'df[col].method(value, inplace=True)', try using 'df.method({col: value}, inplace=True)' or df[col] = df[col].method(value) instead, to perform the operation inplace on the original object.\n",
      "\n",
      "\n",
      "  df['Email'].fillna('No Email', inplace=True)\n"
     ]
    }
   ],
   "source": [
    "# Check for missing values\n",
    "print(df.isnull().sum())\n",
    "\n",
    "# Handle missing values (example: fill with median for numerical columns)\n",
    "df['Age'].fillna(df['Age'].median(), inplace=True)\n",
    "df['Email'].fillna('No Email', inplace=True)\n",
    "\n",
    "# Alternatively, you can drop rows with missing values\n",
    "# df = df.dropna()\n"
   ]
  },
  {
   "cell_type": "code",
   "execution_count": 4,
   "metadata": {},
   "outputs": [
    {
     "name": "stdout",
     "output_type": "stream",
     "text": [
      "Transaction_ID             float64\n",
      "Customer_ID                float64\n",
      "Name                        object\n",
      "Email                       object\n",
      "Phone                      float64\n",
      "Address                     object\n",
      "City                        object\n",
      "State                       object\n",
      "Zipcode                    float64\n",
      "Country                     object\n",
      "Age                        float64\n",
      "Gender                      object\n",
      "Income                      object\n",
      "Customer_Segment            object\n",
      "Date                datetime64[ns]\n",
      "Year                       float64\n",
      "Month                       object\n",
      "Time                        object\n",
      "Total_Purchases            float64\n",
      "Amount                     float64\n",
      "Total_Amount               float64\n",
      "Product_Category            object\n",
      "Product_Brand               object\n",
      "Product_Type                object\n",
      "Feedback                    object\n",
      "Shipping_Method             object\n",
      "Payment_Method              object\n",
      "Order_Status                object\n",
      "Ratings                    float64\n",
      "products                    object\n",
      "dtype: object\n"
     ]
    }
   ],
   "source": [
    "# Convert 'Date' and 'Time' columns to datetime format\n",
    "df['Date'] = pd.to_datetime(df['Date'])\n",
    "df['Time'] = pd.to_datetime(df['Time'], format='%H:%M:%S').dt.time\n",
    "\n",
    "# Ensure numerical columns are in the correct format\n",
    "df['Age'] = pd.to_numeric(df['Age'], errors='coerce')\n",
    "df['Amount'] = pd.to_numeric(df['Amount'], errors='coerce')\n",
    "df['Total_Amount'] = pd.to_numeric(df['Total_Amount'], errors='coerce')\n",
    "\n",
    "# Check the data types\n",
    "print(df.dtypes)\n"
   ]
  },
  {
   "cell_type": "code",
   "execution_count": 5,
   "metadata": {},
   "outputs": [],
   "source": [
    "# Standardize text data: for example, trim spaces and make them lowercase\n",
    "df['Name'] = df['Name'].str.strip().str.lower()\n",
    "df['Email'] = df['Email'].str.strip().str.lower()\n",
    "df['Address'] = df['Address'].str.strip().str.lower()\n",
    "\n",
    "# Remove any leading or trailing spaces in categorical columns\n",
    "categorical_cols = ['City', 'State', 'Country', 'Gender', 'Income', 'Customer_Segment', 'Product_Brand', 'Product_Type', 'Feedback', 'Shipping_Method', 'Payment_Method', 'Order_Status']\n",
    "for col in categorical_cols:\n",
    "    df[col] = df[col].str.strip().str.lower()\n"
   ]
  },
  {
   "cell_type": "code",
   "execution_count": 6,
   "metadata": {},
   "outputs": [
    {
     "name": "stdout",
     "output_type": "stream",
     "text": [
      "Index(['Transaction_ID', 'Customer_ID', 'Name', 'Email', 'Phone', 'Address',\n",
      "       'City', 'State', 'Zipcode', 'Country', 'Age', 'Gender', 'Income',\n",
      "       'Customer_Segment', 'Date', 'Year', 'Month', 'Time', 'Total_Purchases',\n",
      "       'Amount', 'Total_Amount', 'Product_Category', 'Product_Brand',\n",
      "       'Product_Type', 'Feedback', 'Shipping_Method', 'Payment_Method',\n",
      "       'Order_Status', 'Ratings', 'products'],\n",
      "      dtype='object')\n"
     ]
    }
   ],
   "source": [
    "# Drop one of the 'Total_Amount' columns as they seem to be duplicated\n",
    "df = df.loc[:, ~df.columns.duplicated()]\n",
    "\n",
    "# Check the columns to confirm\n",
    "print(df.columns)\n"
   ]
  },
  {
   "cell_type": "code",
   "execution_count": 7,
   "metadata": {},
   "outputs": [],
   "source": [
    "# For example, extract the hour from the 'Time' column\n",
    "df['Hour'] = df['Time'].apply(lambda x: x.hour)\n",
    "\n",
    "# Create any other necessary columns as needed\n"
   ]
  },
  {
   "cell_type": "code",
   "execution_count": 8,
   "metadata": {},
   "outputs": [
    {
     "name": "stdout",
     "output_type": "stream",
     "text": [
      "   Transaction_ID  Customer_ID                 Name              Email  \\\n",
      "0       8691788.0      37249.0  michelle harrington  ebony39@gmail.com   \n",
      "1       2174773.0      69749.0          kelsey hill   mark36@gmail.com   \n",
      "2       6679610.0      30192.0         scott jensen  shane85@gmail.com   \n",
      "3       7232460.0      62101.0        joseph miller   mary34@gmail.com   \n",
      "\n",
      "          Phone                      Address        City            State  \\\n",
      "0  1.414787e+09            3959 amanda burgs    dortmund           berlin   \n",
      "1  6.852900e+09           82072 dawn centers  nottingham          england   \n",
      "2  8.362160e+09            4133 young canyon     geelong  new south wales   \n",
      "3  2.776752e+09  8148 thomas creek suite 100    edmonton          ontario   \n",
      "\n",
      "   Zipcode    Country  ...  Product_Category  Product_Brand Product_Type  \\\n",
      "0  77985.0    germany  ...          Clothing           nike       shorts   \n",
      "1  99071.0         uk  ...       Electronics        samsung       tablet   \n",
      "2  75929.0  australia  ...             Books  penguin books   children's   \n",
      "3  88420.0     canada  ...        Home Decor     home depot        tools   \n",
      "\n",
      "    Feedback Shipping_Method  Payment_Method Order_Status Ratings  \\\n",
      "0  excellent        same-day      debit card      shipped     5.0   \n",
      "1  excellent        standard     credit card   processing     4.0   \n",
      "2    average        same-day     credit card   processing     2.0   \n",
      "3  excellent        standard          paypal   processing     4.0   \n",
      "\n",
      "           products  Hour  \n",
      "0    Cycling shorts  22.0  \n",
      "1        Lenovo Tab   8.0  \n",
      "2  Sports equipment   4.0  \n",
      "3     Utility knife  14.0  \n",
      "\n",
      "[4 rows x 31 columns]\n"
     ]
    }
   ],
   "source": [
    "print(df.head(4))"
   ]
  },
  {
   "cell_type": "code",
   "execution_count": 12,
   "metadata": {},
   "outputs": [
    {
     "name": "stdout",
     "output_type": "stream",
     "text": [
      "   Transaction_ID  Customer_ID                 Name              Email  \\\n",
      "0       8691788.0      37249.0  michelle harrington  ebony39@gmail.com   \n",
      "1       2174773.0      69749.0          kelsey hill   mark36@gmail.com   \n",
      "2       6679610.0      30192.0         scott jensen  shane85@gmail.com   \n",
      "3       7232460.0      62101.0        joseph miller   mary34@gmail.com   \n",
      "\n",
      "          Phone                      Address        City            State  \\\n",
      "0  1.414787e+09            3959 amanda burgs    dortmund           berlin   \n",
      "1  6.852900e+09           82072 dawn centers  nottingham          england   \n",
      "2  8.362160e+09            4133 young canyon     geelong  new south wales   \n",
      "3  2.776752e+09  8148 thomas creek suite 100    edmonton          ontario   \n",
      "\n",
      "   Zipcode    Country  ...  Product_Brand Product_Type   Feedback  \\\n",
      "0  77985.0    germany  ...           nike       shorts  excellent   \n",
      "1  99071.0         uk  ...        samsung       tablet  excellent   \n",
      "2  75929.0  australia  ...  penguin books   children's    average   \n",
      "3  88420.0     canada  ...     home depot        tools  excellent   \n",
      "\n",
      "  Shipping_Method Payment_Method  Order_Status Ratings          products  \\\n",
      "0        same-day     debit card       shipped     5.0    Cycling shorts   \n",
      "1        standard    credit card    processing     4.0        Lenovo Tab   \n",
      "2        same-day    credit card    processing     2.0  Sports equipment   \n",
      "3        standard         paypal    processing     4.0     Utility knife   \n",
      "\n",
      "   Hour                Product_ID  \n",
      "0  22.0               shorts_nike  \n",
      "1   8.0            tablet_samsung  \n",
      "2   4.0  children's_penguin books  \n",
      "3  14.0          tools_home depot  \n",
      "\n",
      "[4 rows x 32 columns]\n"
     ]
    }
   ],
   "source": [
    "df['Product_ID'] =df['Product_Type'] + '_' + df['Product_Brand']\n",
    "user_item_matrix = df.pivot_table(index='Customer_ID', columns='Product_ID', values='Total_Purchases', fill_value=0)\n",
    "print(df.head(4))"
   ]
  },
  {
   "cell_type": "code",
   "execution_count": null,
   "metadata": {},
   "outputs": [],
   "source": []
  },
  {
   "cell_type": "code",
   "execution_count": null,
   "metadata": {},
   "outputs": [],
   "source": []
  },
  {
   "cell_type": "code",
   "execution_count": null,
   "metadata": {},
   "outputs": [],
   "source": []
  },
  {
   "cell_type": "code",
   "execution_count": null,
   "metadata": {},
   "outputs": [],
   "source": []
  }
 ],
 "metadata": {
  "kernelspec": {
   "display_name": "Python 3",
   "language": "python",
   "name": "python3"
  },
  "language_info": {
   "codemirror_mode": {
    "name": "ipython",
    "version": 3
   },
   "file_extension": ".py",
   "mimetype": "text/x-python",
   "name": "python",
   "nbconvert_exporter": "python",
   "pygments_lexer": "ipython3",
   "version": "3.11.9"
  }
 },
 "nbformat": 4,
 "nbformat_minor": 2
}
